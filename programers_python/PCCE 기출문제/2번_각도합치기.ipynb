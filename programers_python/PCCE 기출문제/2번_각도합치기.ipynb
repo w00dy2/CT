{
 "cells": [
  {
   "cell_type": "code",
   "execution_count": 1,
   "metadata": {},
   "outputs": [
    {
     "name": "stdout",
     "output_type": "stream",
     "text": [
      "45\n"
     ]
    }
   ],
   "source": [
    "# input 값을 더하고 나머지 계산\n",
    "\n",
    "angle1 = int(input())\n",
    "angle2 = int(input())\n",
    "\n",
    "sum_angle = angle1 + angle2\n",
    "sum_angle = sum_angle % 360\n",
    "print(sum_angle)"
   ]
  },
  {
   "cell_type": "code",
   "execution_count": null,
   "metadata": {},
   "outputs": [],
   "source": [
    "# input 값을 더하고 나머지 계산\n",
    "\n",
    "angle1 = int(input())\n",
    "angle2 = int(input())\n",
    "\n",
    "sum_angle = angle1 + angle2\n",
    "sum_angle = sum_angle\n",
    "print(sum_angle% 360)\n",
    "\n",
    "# print 안에서도 나누기 계산이 가능"
   ]
  }
 ],
 "metadata": {
  "kernelspec": {
   "display_name": "Python 3",
   "language": "python",
   "name": "python3"
  },
  "language_info": {
   "codemirror_mode": {
    "name": "ipython",
    "version": 3
   },
   "file_extension": ".py",
   "mimetype": "text/x-python",
   "name": "python",
   "nbconvert_exporter": "python",
   "pygments_lexer": "ipython3",
   "version": "3.12.0"
  }
 },
 "nbformat": 4,
 "nbformat_minor": 2
}
