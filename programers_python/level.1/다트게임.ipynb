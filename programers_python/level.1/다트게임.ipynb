{
 "cells": [
  {
   "cell_type": "markdown",
   "metadata": {},
   "source": [
    "카카오톡 게임별의 하반기 신규 서비스로 다트 게임을 출시하기로 했다. 다트 게임은 다트판에 다트를 세 차례 던져 그 점수의 합계로 실력을 겨루는 게임으로, 모두가 간단히 즐길 수 있다.<br>\n",
    "갓 입사한 무지는 코딩 실력을 인정받아 게임의 핵심 부분인 점수 계산 로직을 맡게 되었다. 다트 게임의 점수 계산 로직은 아래와 같다.<br>\n",
    "<br>\n",
    "다트 게임은 총 3번의 기회로 구성된다.<br>\n",
    "각 기회마다 얻을 수 있는 점수는 0점에서 10점까지이다.<br>\n",
    "점수와 함께 Single(S), Double(D), Triple(T) 영역이 존재하고 각 영역 당첨 시 점수에서 1제곱, 2제곱, 3제곱 (점수1 , 점수2 , 점수3 )으로 계산된다.<br>\n",
    "옵션으로 스타상(*) , 아차상(#)이 존재하며 스타상(*) 당첨 시 해당 점수와 바로 전에 얻은 점수를 각 2배로 만든다. 아차상(#) 당첨 시 해당 점수는 마이너스된다.<br>\n",
    "스타상(*)은 첫 번째 기회에서도 나올 수 있다. 이 경우 첫 번째 스타상(*)의 점수만 2배가 된다. (예제 4번 참고)<br>\n",
    "스타상(*)의 효과는 다른 스타상(*)의 효과와 중첩될 수 있다. 이 경우 중첩된 스타상(*) 점수는 4배가 된다. (예제 4번 참고)<br>\n",
    "스타상(*)의 효과는 아차상(#)의 효과와 중첩될 수 있다. 이 경우 중첩된 아차상(#)의 점수는 -2배가 된다. (예제 5번 참고)<br>\n",
    "Single(S), Double(D), Triple(T)은 점수마다 하나씩 존재한다.<br>\n",
    "스타상(*), 아차상(#)은 점수마다 둘 중 하나만 존재할 수 있으며, 존재하지 않을 수도 있다.<br>\n",
    "0~10의 정수와 문자 S, D, T, *, #로 구성된 문자열이 입력될 시 총점수를 반환하는 함수를 작성하라.<br>\n",
    "<br>\n",
    "입력 형식<br>\n",
    "\"점수|보너스|[옵션]\"으로 이루어진 문자열 3세트.<br>\n",
    "예) 1S2D*3T<br>\n",
    "<br>\n",
    "점수는 0에서 10 사이의 정수이다.<br>\n",
    "보너스는 S, D, T 중 하나이다.<br>\n",
    "옵선은 *이나 # 중 하나이며, 없을 수도 있다.<br>\n",
    "출력 형식<br>\n",
    "3번의 기회에서 얻은 점수 합계에 해당하는 정수값을 출력한다.<br>\n",
    "예) 37<br>\n",
    "<br>\n",
    "입출력 예제<br>"
   ]
  },
  {
   "cell_type": "markdown",
   "metadata": {},
   "source": [
    "https://school.programmers.co.kr/learn/courses/30/lessons/17682"
   ]
  },
  {
   "cell_type": "code",
   "execution_count": 1,
   "metadata": {},
   "outputs": [],
   "source": [
    "def solution(dartResult):\n",
    "   \n",
    "    scores=[]\n",
    "    start_idx = 0\n",
    "    power = {'S' : 1, 'D' : 2, \"T\" : 3} # 제곱을 숫자로 바꿔준다.\n",
    "    \n",
    "    for i in range(len(dartResult)):\n",
    "        op = dartResult[i]\n",
    "        if op in power:\n",
    "            scores.append(int(dartResult[start_idx:i]) ** power[op])\n",
    "        elif op == \"*\":\n",
    "            scores[-2:] = [x*2 for x in scores[-2:]]\n",
    "        elif op == '#':\n",
    "            scores[-1] = -scores[-1]\n",
    "            \n",
    "        if not op.isnumeric():\n",
    "            start_idx = i + 1\n",
    "            \n",
    "        \n",
    "    return sum(scores)\n"
   ]
  }
 ],
 "metadata": {
  "kernelspec": {
   "display_name": "Python 3",
   "language": "python",
   "name": "python3"
  },
  "language_info": {
   "codemirror_mode": {
    "name": "ipython",
    "version": 3
   },
   "file_extension": ".py",
   "mimetype": "text/x-python",
   "name": "python",
   "nbconvert_exporter": "python",
   "pygments_lexer": "ipython3",
   "version": "3.10.6"
  },
  "orig_nbformat": 4
 },
 "nbformat": 4,
 "nbformat_minor": 2
}
