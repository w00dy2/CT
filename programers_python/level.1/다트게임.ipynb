{
 "cells": [
  {
   "cell_type": "code",
   "execution_count": 1,
   "metadata": {},
   "outputs": [],
   "source": [
    "def solution(dartResult):\n",
    "   \n",
    "    scores=[]\n",
    "    start_idx = 0\n",
    "    power = {'S' : 1, 'D' : 2, \"T\" : 3} # 제곱을 숫자로 바꿔준다.\n",
    "    \n",
    "    for i in range(len(dartResult)):\n",
    "        op = dartResult[i]\n",
    "        if op in power:\n",
    "            scores.append(int(dartResult[start_idx:i]) ** power[op])\n",
    "        elif op == \"*\":\n",
    "            scores[-2:] = [x*2 for x in scores[-2:]]\n",
    "        elif op == '#':\n",
    "            scores[-1] = -scores[-1]\n",
    "            \n",
    "        if not op.isnumeric():\n",
    "            start_idx = i + 1\n",
    "            \n",
    "        \n",
    "    return sum(scores)\n"
   ]
  }
 ],
 "metadata": {
  "kernelspec": {
   "display_name": "Python 3",
   "language": "python",
   "name": "python3"
  },
  "language_info": {
   "codemirror_mode": {
    "name": "ipython",
    "version": 3
   },
   "file_extension": ".py",
   "mimetype": "text/x-python",
   "name": "python",
   "nbconvert_exporter": "python",
   "pygments_lexer": "ipython3",
   "version": "3.10.6"
  },
  "orig_nbformat": 4
 },
 "nbformat": 4,
 "nbformat_minor": 2
}
