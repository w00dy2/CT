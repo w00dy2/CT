{
 "cells": [
  {
   "cell_type": "markdown",
   "metadata": {},
   "source": [
    "문제 설명<br>\n",
    "신입사원 무지는 게시판 불량 이용자를 신고하고 처리 결과를 메일로 발송하는 시스템을 개발하려 합니다. 무지가 개발하려는 시스템은 다음과 같습니다.<br>\n",
    "<br>\n",
    "각 유저는 한 번에 한 명의 유저를 신고할 수 있습니다.<br>\n",
    "신고 횟수에 제한은 없습니다. 서로 다른 유저를 계속해서 신고할 수 있습니다.<br>\n",
    "한 유저를 여러 번 신고할 수도 있지만, 동일한 유저에 대한 신고 횟수는 1회로 처리됩니다.<br>\n",
    "k번 이상 신고된 유저는 게시판 이용이 정지되며, 해당 유저를 신고한 모든 유저에게 정지 사실을 메일로 발송합니다.<br>\n",
    "유저가 신고한 모든 내용을 취합하여 마지막에 한꺼번에 게시판 이용 정지를 시키면서 정지 메일을 발송합니다.<br>\n",
    "다음은 전체 유저 목록이 [\"muzi\", \"frodo\", \"apeach\", \"neo\"]이고, k = 2(즉, 2번 이상 신고당하면 이용 정지)인 경우의 예시입니다.<br>"
   ]
  },
  {
   "cell_type": "code",
   "execution_count": null,
   "metadata": {},
   "outputs": [],
   "source": [
    "def solution(id_list, report, k):\n",
    "    answer = []\n",
    "    report = list(set(report)) # 중복신고 제거해주기\n",
    "    \n",
    "    for i in report:\n",
    "        u, r = i.spit()\n",
    "        "
   ]
  },
  {
   "cell_type": "code",
   "execution_count": 4,
   "metadata": {},
   "outputs": [],
   "source": [
    "id_list = [\"con\", \"ryan\"]\n",
    "report = \t[\"ryan con\", \"ryan con\", \"ryan con\", \"ryan con\"]\n",
    "k=3"
   ]
  },
  {
   "cell_type": "code",
   "execution_count": 5,
   "metadata": {},
   "outputs": [
    {
     "data": {
      "text/plain": [
       "['ryan con']"
      ]
     },
     "execution_count": 5,
     "metadata": {},
     "output_type": "execute_result"
    }
   ],
   "source": [
    "#중복값 제거 완료\n",
    "report = list(set(report))\n",
    "report"
   ]
  },
  {
   "cell_type": "code",
   "execution_count": null,
   "metadata": {},
   "outputs": [],
   "source": [
    "중복값 제거 완료"
   ]
  },
  {
   "cell_type": "code",
   "execution_count": 6,
   "metadata": {},
   "outputs": [],
   "source": [
    "id_list = [\"muzi\", \"frodo\", \"apeach\", \"neo\"]\n",
    "report = [\"muzi frodo\",\"apeach frodo\",\"frodo neo\",\"muzi neo\",\"apeach muzi\"]\n",
    "k=2"
   ]
  },
  {
   "cell_type": "code",
   "execution_count": 7,
   "metadata": {},
   "outputs": [
    {
     "data": {
      "text/plain": [
       "['apeach muzi', 'muzi frodo', 'apeach frodo', 'frodo neo', 'muzi neo']"
      ]
     },
     "execution_count": 7,
     "metadata": {},
     "output_type": "execute_result"
    }
   ],
   "source": [
    "report = list(set(report))\n",
    "report"
   ]
  },
  {
   "cell_type": "code",
   "execution_count": null,
   "metadata": {},
   "outputs": [],
   "source": [
    "for i in report:\n",
    "    re"
   ]
  },
  {
   "cell_type": "code",
   "execution_count": 12,
   "metadata": {},
   "outputs": [
    {
     "name": "stdout",
     "output_type": "stream",
     "text": [
      "apeach\n",
      "muzi\n",
      "muzi\n",
      "frodo\n",
      "apeach\n",
      "frodo\n",
      "frodo\n",
      "neo\n",
      "muzi\n",
      "neo\n"
     ]
    }
   ],
   "source": [
    "for i in report:\n",
    "    u, r = i.split()\n",
    "    print(u)\n",
    "    print(r)\n",
    "    "
   ]
  },
  {
   "cell_type": "code",
   "execution_count": 13,
   "metadata": {},
   "outputs": [],
   "source": [
    "def solution(id_list, report, k):\n",
    "    be_reported = {i: set() for i in id_list}\n",
    "    reported = {i: set() for i in id_list}\n",
    "    for i in report:\n",
    "        a, b = i.split()\n",
    "        be_reported[b].add(a)\n",
    "        reported[a].add(b)\n",
    "    return [sum([1 if len(be_reported[j]) >= k else 0 for j in list(i)]) for i in reported.values()]"
   ]
  }
 ],
 "metadata": {
  "kernelspec": {
   "display_name": "Python 3",
   "language": "python",
   "name": "python3"
  },
  "language_info": {
   "codemirror_mode": {
    "name": "ipython",
    "version": 3
   },
   "file_extension": ".py",
   "mimetype": "text/x-python",
   "name": "python",
   "nbconvert_exporter": "python",
   "pygments_lexer": "ipython3",
   "version": "3.10.6"
  },
  "orig_nbformat": 4
 },
 "nbformat": 4,
 "nbformat_minor": 2
}
