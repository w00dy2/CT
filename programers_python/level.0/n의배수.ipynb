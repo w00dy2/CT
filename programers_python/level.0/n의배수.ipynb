{
 "cells": [
  {
   "cell_type": "code",
   "execution_count": null,
   "metadata": {},
   "outputs": [],
   "source": [
    "def solution(num, n):\n",
    "    if num % n == 0:\n",
    "        answer = 1\n",
    "    else:\n",
    "        answer = 0\n",
    "    return answer"
   ]
  },
  {
   "cell_type": "code",
   "execution_count": null,
   "metadata": {},
   "outputs": [],
   "source": [
    "#다른사람 풀이\n",
    "def solution(num, n):\n",
    "    return int(not(num % n))"
   ]
  },
  {
   "cell_type": "code",
   "execution_count": null,
   "metadata": {},
   "outputs": [],
   "source": [
    "def solution(num, n):\n",
    "    return int(num % n == 0)"
   ]
  }
 ],
 "metadata": {
  "language_info": {
   "name": "python"
  }
 },
 "nbformat": 4,
 "nbformat_minor": 2
}
