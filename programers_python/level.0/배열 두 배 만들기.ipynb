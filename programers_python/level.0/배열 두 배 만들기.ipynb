{
 "cells": [
  {
   "cell_type": "code",
   "execution_count": 1,
   "metadata": {},
   "outputs": [],
   "source": [
    "def solution(numbers):\n",
    "    answer = []\n",
    "    for i in numbers:\n",
    "        answer.append(2*i)\n",
    "    return answer"
   ]
  },
  {
   "cell_type": "code",
   "execution_count": 2,
   "metadata": {},
   "outputs": [
    {
     "name": "stdout",
     "output_type": "stream",
     "text": [
      "[2, 4, 6, 8, 10]\n",
      "[2, 4, 200, -198, 2, 4, 6]\n"
     ]
    }
   ],
   "source": [
    "#[1, 2, 3, 4, 5]\t[2, 4, 6, 8, 10]\n",
    "#[1, 2, 100, -99, 1, 2, 3]\t[2, 4, 200, -198, 2, 4, 6]\n",
    "\n",
    "test1 = [1, 2, 3, 4, 5]\n",
    "test2 = [1, 2, 100, -99, 1, 2, 3]\n",
    "\n",
    "print(solution(test1))\n",
    "print(solution(test2))"
   ]
  }
 ],
 "metadata": {
  "kernelspec": {
   "display_name": "Python 3",
   "language": "python",
   "name": "python3"
  },
  "language_info": {
   "codemirror_mode": {
    "name": "ipython",
    "version": 3
   },
   "file_extension": ".py",
   "mimetype": "text/x-python",
   "name": "python",
   "nbconvert_exporter": "python",
   "pygments_lexer": "ipython3",
   "version": "3.12.0"
  }
 },
 "nbformat": 4,
 "nbformat_minor": 2
}
