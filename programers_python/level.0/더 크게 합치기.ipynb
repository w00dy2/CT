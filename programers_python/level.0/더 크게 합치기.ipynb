{
 "cells": [
  {
   "cell_type": "code",
   "execution_count": null,
   "metadata": {},
   "outputs": [],
   "source": [
    "def solution(a, b):\n",
    "    x = int(str(a) + str(b))\n",
    "    y = int(str(b) + str(a))\n",
    "    \n",
    "    if x > y:\n",
    "        answer = x\n",
    "    else:\n",
    "        answer = y\n",
    "\n",
    "    return answer"
   ]
  },
  {
   "cell_type": "code",
   "execution_count": null,
   "metadata": {},
   "outputs": [],
   "source": [
    "# 다른사람 풀이\n",
    "def solution(a, b):\n",
    "    return int(max(f\"{a}{b}\", f\"{b}{a}\"))"
   ]
  }
 ],
 "metadata": {
  "language_info": {
   "name": "python"
  }
 },
 "nbformat": 4,
 "nbformat_minor": 2
}
