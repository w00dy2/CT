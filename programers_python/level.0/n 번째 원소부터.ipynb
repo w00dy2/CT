{
 "cells": [
  {
   "cell_type": "code",
   "execution_count": null,
   "metadata": {},
   "outputs": [],
   "source": [
    "def solution(a, n):\n",
    "    answer = []\n",
    "    for i in range(len(a) - n+1):\n",
    "        answer.append(a[i+n-1])\n",
    "    \n",
    "    return answer"
   ]
  },
  {
   "cell_type": "code",
   "execution_count": null,
   "metadata": {},
   "outputs": [],
   "source": [
    "# 다른사람 풀이\n",
    "def solution(num_list, n):\n",
    "    return num_list[n-1:]"
   ]
  }
 ],
 "metadata": {
  "language_info": {
   "name": "python"
  }
 },
 "nbformat": 4,
 "nbformat_minor": 2
}
