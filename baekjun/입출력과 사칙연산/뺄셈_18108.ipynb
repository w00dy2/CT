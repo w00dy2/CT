{
 "cells": [
  {
   "cell_type": "markdown",
   "metadata": {},
   "source": [
    "1998년생인 내가 태국에서는 2541년생?!\n",
    "\n",
    "시간 제한\t메모리 제한\t제출\t정답\t맞힌 사람\t정답 비율\n",
    "1 초 (추가 시간 없음)\t1024 MB\t198484\t126308\t113024\t63.766%\n",
    "\n",
    "## 문제\n",
    "ICPC Bangkok Regional에 참가하기 위해 수완나품 국제공항에 막 도착한 팀 레드시프트 일행은 눈을 믿을 수 없었다. 공항의 대형 스크린에 올해가 2562년이라고 적혀 있던 것이었다.\n",
    "\n",
    "불교 국가인 태국은 불멸기원(佛滅紀元), 즉 석가모니가 열반한 해를 기준으로 연도를 세는 불기를 사용한다. 반면, 우리나라는 서기 연도를 사용하고 있다. 불기 연도가 주어질 때 이를 서기 연도로 바꿔 주는 프로그램을 작성하시오.\n",
    "\n",
    "## 입력\n",
    "서기 연도를 알아보고 싶은 불기 연도 y가 주어진다. (1000 ≤ y ≤ 3000)\n",
    "\n",
    "## 출력\n",
    "불기 연도를 서기 연도로 변환한 결과를 출력한다."
   ]
  },
  {
   "cell_type": "code",
   "execution_count": 1,
   "metadata": {},
   "outputs": [
    {
     "name": "stdout",
     "output_type": "stream",
     "text": [
      "2542\n"
     ]
    }
   ],
   "source": [
    "A = int(input())\n",
    "B = 2541 - 1998\n",
    "print(A - B)\n"
   ]
  },
  {
   "cell_type": "markdown",
   "metadata": {},
   "source": [
    "문제를 잘 읽자..."
   ]
  }
 ],
 "metadata": {
  "kernelspec": {
   "display_name": ".venv",
   "language": "python",
   "name": "python3"
  },
  "language_info": {
   "codemirror_mode": {
    "name": "ipython",
    "version": 3
   },
   "file_extension": ".py",
   "mimetype": "text/x-python",
   "name": "python",
   "nbconvert_exporter": "python",
   "pygments_lexer": "ipython3",
   "version": "3.10.13"
  }
 },
 "nbformat": 4,
 "nbformat_minor": 2
}
